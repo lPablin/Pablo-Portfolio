{
  "nbformat": 4,
  "nbformat_minor": 0,
  "metadata": {
    "colab": {
      "provenance": []
    },
    "kernelspec": {
      "name": "python3",
      "display_name": "Python 3"
    },
    "language_info": {
      "name": "python"
    }
  },
  "cells": [
    {
      "cell_type": "code",
      "execution_count": null,
      "metadata": {
        "id": "Ss_IHqz5-es8"
      },
      "outputs": [],
      "source": []
    },
    {
      "cell_type": "markdown",
      "source": [
        "Se desea crear un sistema de compras que, dado un conjunto de productos (con stock limitado),\n",
        "nos permita añadirlos a un carrito de la compra. Las funcionalidades son\n",
        "las siguientes:\n",
        "• Crear un carrito de compra\n",
        "• Añadir productos al carrito\n",
        "• Controlar el stock de los productos\n",
        "• Eliminar productos de carrito (total o parcialmente)\n",
        "• Mostrar información de carrito: productos, coste por producto, coste total, etc.\n",
        "\n"
      ],
      "metadata": {
        "id": "SY1NQIQV4axS"
      }
    },
    {
      "cell_type": "code",
      "source": [
        "#Para este ejercicio necesitaremos varias clases distintas.\n",
        "\n",
        "#La primera sin lugar a dudas será producto con atributos el nombre la cantidad en stock y el precio\n",
        "\n",
        "#La segunda la tienda donde se almacenan los productos cuyo acceso a modificaciones solo tendrá el dueño\n",
        "\n",
        "#La tercera será el carrito del cliente que va seleccionando los productos\n",
        "\n",
        "#Y la cuarta la unión de todas las anteriores, el sistema de compras.\n",
        "#El cliente solo tendrá acceso a las funciones de esta cuarta clase\n",
        "\n",
        "\n",
        "class Producto:\n",
        "    def __init__(self, nombre, precio, stock):#Atributos de la clase\n",
        "        self.nombre = nombre\n",
        "        self.precio = precio\n",
        "        self.stock = stock\n",
        "\n",
        "    def __str__(self):#Para el print\n",
        "        return f\"{self.nombre} - Precio: {self.precio}, Stock: {self.stock}\"\n",
        "\n",
        "class Tienda: #Esta clase solo tendría acceso a ella el responsable del negocio\n",
        "    def __init__(self):\n",
        "        self.productos = {}  # Diccionario como base de datos para almacenar productos y cantidades\n",
        "\n",
        "    def añadir_producto(self, producto, cantidad):\n",
        "        if producto.nombre in self.productos: # Si ya existe, se aumenta su stock\n",
        "            self.productos[producto.nombre].stock += cantidad\n",
        "        else: # Si es un nuevo producto, se añade con la cantidad especificada en el propio atributo\n",
        "            producto.stock = cantidad #Necesario actualizar el atributo de la instancia si es cero\n",
        "            #Ya que quizás no se ha hecho manualmente desde fuera\n",
        "            self.productos[producto.nombre] = producto\n",
        "        print(f\"Producto {producto.nombre} añadido o actualizado en la tienda con {cantidad} unidades.\")\n",
        "\n",
        "    def eliminar_producto(self, nombre_producto, eliminar_totalmente=False):#True solo para el dueño\n",
        "        if nombre_producto in self.productos:\n",
        "            if eliminar_totalmente: # Eliminar completamente el producto de la tienda por el dueño\n",
        "                del self.productos[nombre_producto]\n",
        "                print(f\"Producto {nombre_producto} eliminado completamente de la tienda.\")\n",
        "            else: # Mantener el producto con stock 0\n",
        "                self.productos[nombre_producto].stock = 0\n",
        "                print(f\"Producto {nombre_producto} ahora tiene stock 0 pero sigue en la tienda.\")\n",
        "        else:\n",
        "            print(f\"Producto {nombre_producto} no existe en la tienda.\")\n",
        "\n",
        "    def buscar_producto(self, nombre_producto):#Funcion para el sistema del cliente\n",
        "        return self.productos.get(nombre_producto, None)\n",
        "\n",
        "    def mostrar_tienda(self):\n",
        "        print(\"Tienda actual:\")\n",
        "        for producto in self.productos.values():#Mostrar los productos de la tienda\n",
        "            print(producto)\n",
        "\n",
        "class Carrito:\n",
        "    def __init__(self):\n",
        "        self.productos = {}  # Diccionario con nombres de productos como clave\n",
        "\n",
        "    def añadir_producto(self, producto, cantidad):\n",
        "        if producto.nombre in self.productos:#Si el producto ya lo tenemos, incrementar cantidad\n",
        "            self.productos[producto.nombre][\"cantidad\"] += cantidad\n",
        "        else:#Sino añadir un producto nuevo\n",
        "            self.productos[producto.nombre] = {\"producto\": producto, \"cantidad\": cantidad}\n",
        "\n",
        "    def eliminar_producto(self, producto, cantidad=None):\n",
        "        nombre_producto = producto.nombre\n",
        "        if nombre_producto in self.productos:#Si tenemos ese producto, procedemos a eliminar\n",
        "            if cantidad is None or self.productos[nombre_producto][\"cantidad\"] <= cantidad:\n",
        "                del self.productos[nombre_producto] #Eliminamos el producto del carrito\n",
        "            else: #Sino quitamos las cantidades deseadas\n",
        "                self.productos[nombre_producto][\"cantidad\"] -= cantidad\n",
        "\n",
        "    def mostrar_informacion(self):\n",
        "        total = 0 #Para reemplazar en el bucle\n",
        "        print(\"Carrito de compras:\")\n",
        "        for producto_info in self.productos.values():#Buscar en todo el diccionario del carrito\n",
        "            producto = producto_info[\"producto\"]\n",
        "            cantidad = producto_info[\"cantidad\"]\n",
        "            coste_producto = producto.precio * cantidad\n",
        "            total += coste_producto\n",
        "            print(f\"{producto.nombre}: {cantidad} unidades - Total: {coste_producto}€\")#Print de todo\n",
        "        print(f\"Coste total: {total}€\")\n",
        "\n",
        "\n",
        "class SistemaDeCompras:#Clase que tiene acceso el cliente y opera con el resto de las clases definidas previamente\n",
        "    def __init__(self, tienda):\n",
        "        self.tienda = tienda  # Accede a la tienda de ese sistema\n",
        "\n",
        "    def buscar_producto(self, nombre_producto):\n",
        "        return self.tienda.buscar_producto(nombre_producto)\n",
        "\n",
        "    def añadir_al_carrito(self, carrito, nombre_producto, cantidad):\n",
        "        producto = self.buscar_producto(nombre_producto)#Busca el producto y si existe ejecuta accion\n",
        "        if producto:\n",
        "            if producto.stock >= cantidad:\n",
        "                carrito.añadir_producto(producto, cantidad)\n",
        "                producto.stock -= cantidad #Actualiza el stock de la tienda\n",
        "                print(f\"Producto '{nombre_producto}' añadido al carrito.\")\n",
        "            else:\n",
        "                print(f\"Stock insuficiente de '{nombre_producto}'.\")\n",
        "        else:\n",
        "            print(f\"Producto '{nombre_producto}' no encontrado.\")\n",
        "\n",
        "    def eliminar_del_carrito(self, carrito, nombre_producto, cantidad=None):\n",
        "        producto = self.buscar_producto(nombre_producto)\n",
        "        if producto and nombre_producto in carrito.productos:\n",
        "            producto_info = carrito.productos[nombre_producto]\n",
        "            cantidad_actual = producto_info[\"cantidad\"]\n",
        "\n",
        "            if cantidad is None or cantidad >= cantidad_actual:\n",
        "                carrito.eliminar_producto(producto)  # Eliminar producto completamente\n",
        "                cantidad = cantidad_actual #Valor para añadir a la tienda de nuevo\n",
        "            else:\n",
        "                carrito.eliminar_producto(producto, cantidad)  # Eliminar parcialmente\n",
        "\n",
        "            producto.stock += cantidad  # Añadir la cantidad eliminada al stock\n",
        "            print(f\"Producto '{nombre_producto}' eliminado del carrito.\")\n",
        "        else:\n",
        "            print(f\"Producto '{nombre_producto}' no encontrado en el carrito.\")\n",
        "\n",
        "    def crear_carrito(self):\n",
        "        return Carrito()  # Devuelve una nueva instancia de Carrito\n",
        "\n",
        "    def mostrar_tienda(self):\n",
        "        self.tienda.mostrar_tienda()  # Mostrar productos y stock en la tienda"
      ],
      "metadata": {
        "id": "7eihZtPB6PZn"
      },
      "execution_count": null,
      "outputs": []
    },
    {
      "cell_type": "markdown",
      "source": [
        "Creamos la tienda y varios productos necesarios"
      ],
      "metadata": {
        "id": "TbsViIeyBYA5"
      }
    },
    {
      "cell_type": "code",
      "source": [
        "# Creamos la tienda\n",
        "tienda1 = Tienda()\n",
        "\n",
        "# Creamos algunos productos\n",
        "producto1 = Producto(\"Manzanas\", 1.0, 100)\n",
        "producto2 = Producto(\"Plátanos\", 1.5, 50)\n",
        "producto3 = Producto(\"Naranjas\", 2.0, 30)\n",
        "\n",
        "# Y los añadimos a la tienda\n",
        "tienda1.añadir_producto(producto1, 100)\n",
        "tienda1.añadir_producto(producto2, 50)\n",
        "tienda1.añadir_producto(producto3, 30)\n",
        "\n",
        "# Mostrar los productos en la tienda\n",
        "tienda1.mostrar_tienda()\n",
        "\n"
      ],
      "metadata": {
        "id": "kXv6ByWN6TMk",
        "colab": {
          "base_uri": "https://localhost:8080/"
        },
        "outputId": "e176f2d0-9d6d-42bc-e5ea-a7d6abc4e6e8"
      },
      "execution_count": null,
      "outputs": [
        {
          "output_type": "stream",
          "name": "stdout",
          "text": [
            "Producto Manzanas añadido o actualizado en la tienda con 100 unidades.\n",
            "Producto Plátanos añadido o actualizado en la tienda con 50 unidades.\n",
            "Producto Naranjas añadido o actualizado en la tienda con 30 unidades.\n",
            "Tienda actual:\n",
            "Manzanas - Precio: 1.0, Stock: 100\n",
            "Plátanos - Precio: 1.5, Stock: 50\n",
            "Naranjas - Precio: 2.0, Stock: 30\n"
          ]
        }
      ]
    },
    {
      "cell_type": "markdown",
      "source": [
        "Ahora realizamos un par de cambios como si fuesemos el dueño de la tienda\n",
        "\n"
      ],
      "metadata": {
        "id": "ZRx6GE0VBXMJ"
      }
    },
    {
      "cell_type": "code",
      "source": [
        "# Simulamos que el stock de Naranjas llega a cero para comprobar que no desaparece de la tienda\n",
        "producto3.stock = 0\n",
        "\n",
        "# Mostrar nuevamente la tienda (ahora con Naranjas en stock 0)\n",
        "tienda1.mostrar_tienda()\n",
        "\n",
        "# Intentar eliminar un producto completamente\n",
        "tienda1.eliminar_producto(\"Naranjas\", eliminar_totalmente=True)  # Eliminar completamente por el dueño\n",
        "tienda1.mostrar_tienda()  # Verificamos que Naranjas ya no está\n",
        "\n",
        "# Intentar eliminar otro producto(sin el True del dueño), asi que solo dejándolo con stock 0\n",
        "tienda1.eliminar_producto(\"Manzanas\")  # Dejar con stock 0\n",
        "tienda1.mostrar_tienda()  # Verificamos que Manzanas sigue pero con stock 0\n",
        "\n",
        "tienda1.añadir_producto(producto1, 100)\n",
        "tienda1.añadir_producto(producto3, 30)\n",
        "tienda1.mostrar_tienda()  #Volvemos a la situacion inicial"
      ],
      "metadata": {
        "colab": {
          "base_uri": "https://localhost:8080/"
        },
        "id": "CzFQYpkf6OZC",
        "outputId": "ad102e41-551b-4e41-cd24-8619b5e6c353"
      },
      "execution_count": null,
      "outputs": [
        {
          "output_type": "stream",
          "name": "stdout",
          "text": [
            "Tienda actual:\n",
            "Manzanas - Precio: 1.0, Stock: 100\n",
            "Plátanos - Precio: 1.5, Stock: 50\n",
            "Naranjas - Precio: 2.0, Stock: 0\n",
            "Producto Naranjas eliminado completamente de la tienda.\n",
            "Tienda actual:\n",
            "Manzanas - Precio: 1.0, Stock: 100\n",
            "Plátanos - Precio: 1.5, Stock: 50\n",
            "Producto Manzanas ahora tiene stock 0 pero sigue en la tienda.\n",
            "Tienda actual:\n",
            "Manzanas - Precio: 1.0, Stock: 0\n",
            "Plátanos - Precio: 1.5, Stock: 50\n",
            "Producto Manzanas añadido o actualizado en la tienda con 100 unidades.\n",
            "Producto Naranjas añadido o actualizado en la tienda con 30 unidades.\n",
            "Tienda actual:\n",
            "Manzanas - Precio: 1.0, Stock: 100\n",
            "Plátanos - Precio: 1.5, Stock: 50\n",
            "Naranjas - Precio: 2.0, Stock: 30\n"
          ]
        }
      ]
    },
    {
      "cell_type": "code",
      "source": [
        "# Creamos la instancia del sistema de compras para la tienda1\n",
        "sistema1 = SistemaDeCompras(tienda1)"
      ],
      "metadata": {
        "id": "KfREWkrNEHDi"
      },
      "execution_count": null,
      "outputs": []
    },
    {
      "cell_type": "markdown",
      "source": [
        "A contiunación nos comportamos como si fuésemos el cliente que interactua con el sistema de compras. Primero creamos el carrito y visualizamos los productos que hay en la tienda"
      ],
      "metadata": {
        "id": "wBH1Xm5eBmGJ"
      }
    },
    {
      "cell_type": "code",
      "source": [
        "# Crear el carrito de compras\n",
        "carrito1 = sistema1.crear_carrito()\n",
        "# Mostrar tiendas disponibles\n",
        "print(\"\\n--- Mostrar tiendas disponibles ---\")\n",
        "sistema1.mostrar_tienda()"
      ],
      "metadata": {
        "colab": {
          "base_uri": "https://localhost:8080/"
        },
        "id": "QXvOFLnm7sHc",
        "outputId": "bd97142c-e17b-4494-bfb1-057ddc8b78df"
      },
      "execution_count": null,
      "outputs": [
        {
          "output_type": "stream",
          "name": "stdout",
          "text": [
            "\n",
            "--- Mostrar tiendas disponibles ---\n",
            "Tienda actual:\n",
            "Manzanas - Precio: 1.0, Stock: 100\n",
            "Plátanos - Precio: 1.5, Stock: 50\n",
            "Naranjas - Precio: 2.0, Stock: 30\n"
          ]
        }
      ]
    },
    {
      "cell_type": "code",
      "source": [
        "# Cliente añade productos al carrito\n",
        "print(\"\\n--- Añadir productos al carrito ---\")\n",
        "sistema1.añadir_al_carrito(carrito1, \"Manzanas\", 10)\n",
        "sistema1.añadir_al_carrito(carrito1, \"Plátanos\", 5)\n",
        "sistema1.añadir_al_carrito(carrito1, \"Naranjas\", 15)\n",
        "\n",
        "# Mostrar información del carrito\n",
        "print(\"\\n--- Información del carrito después de añadir productos ---\")\n",
        "carrito1.mostrar_informacion()\n",
        "tienda1.mostrar_tienda()  #Volvemos a la situacion inicial"
      ],
      "metadata": {
        "colab": {
          "base_uri": "https://localhost:8080/"
        },
        "id": "Bo53Umlu7uWL",
        "outputId": "74a89c6d-fc2f-476a-f20d-4eb0de24d079"
      },
      "execution_count": null,
      "outputs": [
        {
          "output_type": "stream",
          "name": "stdout",
          "text": [
            "\n",
            "--- Añadir productos al carrito ---\n",
            "Producto 'Manzanas' añadido al carrito.\n",
            "Producto 'Plátanos' añadido al carrito.\n",
            "Producto 'Naranjas' añadido al carrito.\n",
            "\n",
            "--- Información del carrito después de añadir productos ---\n",
            "Carrito de compras:\n",
            "Manzanas: 10 unidades - Total: 10.0€\n",
            "Plátanos: 5 unidades - Total: 7.5€\n",
            "Naranjas: 15 unidades - Total: 30.0€\n",
            "Coste total: 47.5€\n",
            "Tienda actual:\n",
            "Manzanas - Precio: 1.0, Stock: 90\n",
            "Plátanos - Precio: 1.5, Stock: 45\n",
            "Naranjas - Precio: 2.0, Stock: 15\n"
          ]
        }
      ]
    },
    {
      "cell_type": "code",
      "source": [
        "# Cliente elimina algunos productos del carrito\n",
        "print(\"\\n--- Eliminar productos del carrito (parcialmente) ---\")\n",
        "sistema1.eliminar_del_carrito(carrito1, \"Plátanos\", 2)  # Eliminar 2 unidades de plátanos\n",
        "carrito1.mostrar_informacion()\n",
        "\n",
        "# Eliminar un producto completamente del carrito\n",
        "print(\"\\n--- Eliminar un producto completamente del carrito ---\")\n",
        "sistema1.eliminar_del_carrito(carrito1, \"Manzanas\")  # Eliminar todas las manzanas\n",
        "carrito1.mostrar_informacion()\n",
        "\n",
        "# Intentar eliminar un producto que no está en el carrito\n",
        "print(\"\\n--- Intentar eliminar un producto que no está en el carrito ---\")\n",
        "sistema1.eliminar_del_carrito(carrito1, \"Peras\")  # Producto no existente\n",
        "carrito1.mostrar_informacion()\n",
        "\n",
        "# Mostrar información de la tienda después de las compras\n",
        "tienda1.mostrar_tienda()"
      ],
      "metadata": {
        "colab": {
          "base_uri": "https://localhost:8080/"
        },
        "id": "GPjWFCk77ymd",
        "outputId": "a69ec89a-611e-420b-956d-ce8b46c8da8f"
      },
      "execution_count": null,
      "outputs": [
        {
          "output_type": "stream",
          "name": "stdout",
          "text": [
            "\n",
            "--- Eliminar productos del carrito (parcialmente) ---\n",
            "Producto 'Plátanos' eliminado del carrito.\n",
            "Carrito de compras:\n",
            "Manzanas: 10 unidades - Total: 10.0€\n",
            "Plátanos: 3 unidades - Total: 4.5€\n",
            "Naranjas: 15 unidades - Total: 30.0€\n",
            "Coste total: 44.5€\n",
            "\n",
            "--- Eliminar un producto completamente del carrito ---\n",
            "Producto 'Manzanas' eliminado del carrito.\n",
            "Carrito de compras:\n",
            "Plátanos: 3 unidades - Total: 4.5€\n",
            "Naranjas: 15 unidades - Total: 30.0€\n",
            "Coste total: 34.5€\n",
            "\n",
            "--- Intentar eliminar un producto que no está en el carrito ---\n",
            "Producto 'Peras' no encontrado en el carrito.\n",
            "Carrito de compras:\n",
            "Plátanos: 3 unidades - Total: 4.5€\n",
            "Naranjas: 15 unidades - Total: 30.0€\n",
            "Coste total: 34.5€\n",
            "Tienda actual:\n",
            "Manzanas - Precio: 1.0, Stock: 100\n",
            "Plátanos - Precio: 1.5, Stock: 47\n",
            "Naranjas - Precio: 2.0, Stock: 15\n"
          ]
        }
      ]
    }
  ]
}